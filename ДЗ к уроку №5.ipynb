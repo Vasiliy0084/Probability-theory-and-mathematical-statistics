{
 "cells": [
  {
   "cell_type": "markdown",
   "id": "479a7e22",
   "metadata": {},
   "source": [
    "### Задача №1"
   ]
  },
  {
   "cell_type": "markdown",
   "id": "38ada8be",
   "metadata": {},
   "source": [
    "#### Известно, что генеральная совокупность распределена нормально с известным средним квадратическим отклонением 16. Найти ширину доверительного интервала для оценки математического ожидания `mu` с надёжностью 0.95, если выборочное среднее равно 80, а объём выборки равен 256."
   ]
  },
  {
   "cell_type": "code",
   "execution_count": 1,
   "id": "60f179c3",
   "metadata": {},
   "outputs": [],
   "source": [
    "import numpy as np\n",
    "from scipy import stats\n",
    "import scipy"
   ]
  },
  {
   "cell_type": "markdown",
   "id": "7a0769c8",
   "metadata": {},
   "source": [
    "По условиям задачи рассматриваемая величина имеет нормальное равномерное распределение. $$Z = \\dfrac{\\overline{X} - \\mu}{\\sigma / \\sqrt{n}}$$ Обозначим $\\alpha = 1 - p$. Можно убедиться в том, что\n",
    "$$P \\left( t_{\\alpha / 2} \\leq Z \\leq t_{1 - \\alpha / 2} \\right) = p,$$\n",
    "где $t_{x}$ — квантиль порядка $x$ для стандартного нормального распределения. "
   ]
  },
  {
   "cell_type": "markdown",
   "id": "56904c30",
   "metadata": {},
   "source": [
    "Доверительный интервал для параметра $\\mu$ будет рассчитываться по формуле:  $$P \\left( \\overline{X} + t_{\\alpha / 2} \\cdot \\dfrac{\\sigma}{\\sqrt{n}} \\leq \\mu \\leq \\overline{X} + t_{1 - \\alpha / 2} \\cdot \\dfrac{\\sigma}{\\sqrt{n}} \\right) = p$$"
   ]
  },
  {
   "cell_type": "code",
   "execution_count": 2,
   "id": "383f890e",
   "metadata": {},
   "outputs": [
    {
     "data": {
      "text/plain": [
       "(-1.959963984540054, 1.959963984540054)"
      ]
     },
     "execution_count": 2,
     "metadata": {},
     "output_type": "execute_result"
    }
   ],
   "source": [
    "mean = 80\n",
    "n = 256\n",
    "p = 0.95\n",
    "alpha = 1 - p\n",
    "scale = 16\n",
    "t1 = stats.norm.ppf(alpha / 2)\n",
    "t2 = stats.norm.ppf(1 - alpha / 2)\n",
    "t1, t2"
   ]
  },
  {
   "cell_type": "markdown",
   "id": "d8e75b37",
   "metadata": {},
   "source": [
    "Доверительный интервал:"
   ]
  },
  {
   "cell_type": "code",
   "execution_count": 3,
   "id": "1aad25e8",
   "metadata": {},
   "outputs": [
    {
     "name": "stdout",
     "output_type": "stream",
     "text": [
      "Ширина доверительного интервала: 3.91992797\n"
     ]
    }
   ],
   "source": [
    "a = (mean + t1 * scale / np.sqrt(n))\n",
    "b = (mean + t2 * scale / np.sqrt(n))\n",
    "print(f'Ширина доверительного интервала: {round((b-a), 8)}')"
   ]
  },
  {
   "cell_type": "code",
   "execution_count": null,
   "id": "922316d2",
   "metadata": {},
   "outputs": [],
   "source": []
  },
  {
   "cell_type": "markdown",
   "id": "0904d887",
   "metadata": {},
   "source": [
    "### Задача №2"
   ]
  },
  {
   "cell_type": "markdown",
   "id": "3f06aa8d",
   "metadata": {},
   "source": [
    "#### Продавец утверждает, что средний вес пачки печенья составляет 200 г. Из партии извлечена выборка из 10 пачек. Вес каждой пачки составляет:\n",
    "```\n",
    "202, 203, 199, 197, 195, 201, 200, 204, 194, 190\n",
    "```\n",
    "#### Известно, что их веса распределены нормально. Верно ли утверждение продавца, если учитывать, что уровень значимости равен 1%? Найдите P-значение для данного теста и укажите его в качестве ответа."
   ]
  },
  {
   "cell_type": "markdown",
   "id": "c4b4f51e",
   "metadata": {},
   "source": [
    "Из условия задачи следует, что проверяется гипотеза относительно математического ожидания нормально распределённой случайной величины с не известной дисперсией. В этом случае будет использоваться __t-статистика__:\n",
    "$$T = \\dfrac{\\overline{X} - \\mu}{\\sigma_X / \\sqrt{n}},$$\n",
    "где $\\sigma_X$ — несмещённая оценка среднего квадратического отклонения.\n",
    "\n",
    "В предположении верности гипотезы $H_0$ t-статистика имеет __распределение Стьюдента__ или __t-распределение__ с параметром $df = n - 1$."
   ]
  },
  {
   "cell_type": "code",
   "execution_count": 4,
   "id": "36ccca5c",
   "metadata": {},
   "outputs": [
    {
     "data": {
      "text/plain": [
       "(198.5, 4.453463071962462)"
      ]
     },
     "execution_count": 4,
     "metadata": {},
     "output_type": "execute_result"
    }
   ],
   "source": [
    "weight = np.array([202, 203, 199, 197, 195, 201, 200, 204, 194, 190])\n",
    "mean = weight.mean()\n",
    "std = weight.std(ddof=1)\n",
    "mean, std"
   ]
  },
  {
   "cell_type": "markdown",
   "id": "d2436125",
   "metadata": {},
   "source": [
    "В нашем случае статистика равна: $$T = \\dfrac{mean - 200}{std / \\sqrt{10}},$$"
   ]
  },
  {
   "cell_type": "code",
   "execution_count": 5,
   "id": "162a5187",
   "metadata": {},
   "outputs": [
    {
     "data": {
      "text/plain": [
       "-1.0651074037450896"
      ]
     },
     "execution_count": 5,
     "metadata": {},
     "output_type": "execute_result"
    }
   ],
   "source": [
    "n = 10\n",
    "T=(mean - 200)/(std/np.sqrt(n))\n",
    "T"
   ]
  },
  {
   "cell_type": "markdown",
   "id": "3250d0b3",
   "metadata": {},
   "source": [
    "Находим критическую область:"
   ]
  },
  {
   "cell_type": "code",
   "execution_count": 6,
   "id": "bb1d7ec9",
   "metadata": {},
   "outputs": [
    {
     "data": {
      "text/plain": [
       "(-3.2498355440153697, 3.2498355440153697)"
      ]
     },
     "execution_count": 6,
     "metadata": {},
     "output_type": "execute_result"
    }
   ],
   "source": [
    "alpha = 0.01\n",
    "\n",
    "t1 = stats.t.ppf(alpha / 2, df=n - 1)\n",
    "t2 = stats.t.ppf(1 - alpha / 2, df=n - 1)\n",
    "\n",
    "t1, t2"
   ]
  },
  {
   "cell_type": "markdown",
   "id": "a59e7e0c",
   "metadata": {},
   "source": [
    "В итоге критическая область равна:\n",
    "$$\\Omega_\\alpha = (-\\infty, -3.25) \\cup (3.25,  \\infty)$$ Таким образом видим, что значение Т не попадает в критическую область, значит продавец прав"
   ]
  },
  {
   "cell_type": "markdown",
   "id": "9e667491",
   "metadata": {},
   "source": [
    "##### Находим Р значение"
   ]
  },
  {
   "cell_type": "markdown",
   "id": "2e3b2673",
   "metadata": {},
   "source": [
    "т.к. у нас двухсторонняя область, Р-значение будем находить по формуле: $$P = 2 \\cdot \\min (P_l, P_r)$$"
   ]
  },
  {
   "cell_type": "code",
   "execution_count": 7,
   "id": "d75835c3",
   "metadata": {},
   "outputs": [
    {
     "name": "stdout",
     "output_type": "stream",
     "text": [
      "Р-значение: 0.3145666\n"
     ]
    }
   ],
   "source": [
    "p_left = stats.t.cdf(T, df=n - 1)\n",
    "p_right = 1 - stats.t.cdf(T, df=n - 1)\n",
    "\n",
    "pvalue = 2 * min(p_left, p_right)\n",
    "\n",
    "print(f'Р-значение: {round(pvalue, 8)}')"
   ]
  },
  {
   "cell_type": "code",
   "execution_count": null,
   "id": "9c811488",
   "metadata": {},
   "outputs": [],
   "source": []
  },
  {
   "cell_type": "markdown",
   "id": "4cbfc5ec",
   "metadata": {},
   "source": [
    "### Задача №3"
   ]
  },
  {
   "cell_type": "markdown",
   "id": "a6ef8b6b",
   "metadata": {},
   "source": [
    "#### Дана выборка диаметров подшипников из примера 1 с занятия 5:\n",
    "```\n",
    "samples = [0.6603, 0.9466, 0.5968, 1.3792, 1.5481, 0.7515, 1.0681, 1.1134,\n",
    "           1.2088, 1.701 , 1.0282, 1.3579, 1.0191, 1.1784, 1.1168, 1.1372,\n",
    "           0.7273, 1.3958, 0.8665, 1.5112, 1.161 , 1.0232, 1.0865, 1.02  ]\n",
    "```\n",
    "Предполагая, что диаметры подшипников распределены нормально, проверьте гипотезу о том, что дисперсия случайной величины равна `0.0625` при уровне значимости `alpha = 0.05`. Что для этого нужно знать:\n",
    "1. Альтернативная гипотеза двухсторонняя.\n",
    "2. Статистика для теста: `H = (n - 1) * sample_variance / variance`, где `n` - число элементов в выборке, `sample_variance` - несмещённая оценка дисперсии, `variance` - утверждаемая нулевой гипотезой дисперсия.\n",
    "3. Эта статистика в предположении верности нулевой гипотезы имеет распределение хи-квадрат с параметром `df = n - 1`. Её квантили можно найти с помощью функции `scipy.stats.chi2.ppf`.\n",
    "\n",
    "В качестве ответа запишите 1, если нулевая гипотеза верна, и 0 иначе."
   ]
  },
  {
   "cell_type": "code",
   "execution_count": 8,
   "id": "8edae2d3",
   "metadata": {},
   "outputs": [],
   "source": [
    "samples = np.array([0.6603, 0.9466, 0.5968, 1.3792, 1.5481, 0.7515, 1.0681, 1.1134,\n",
    "           1.2088, 1.701 , 1.0282, 1.3579, 1.0191, 1.1784, 1.1168, 1.1372,\n",
    "           0.7273, 1.3958, 0.8665, 1.5112, 1.161 , 1.0232, 1.0865, 1.02  ])"
   ]
  },
  {
   "cell_type": "code",
   "execution_count": 9,
   "id": "4db4148d",
   "metadata": {},
   "outputs": [
    {
     "data": {
      "text/plain": [
       "(1.1084541666666665, 0.27936526343958135, 24)"
      ]
     },
     "execution_count": 9,
     "metadata": {},
     "output_type": "execute_result"
    }
   ],
   "source": [
    "mean = samples.mean()\n",
    "std = samples.std(ddof=1)\n",
    "n = samples.shape[0]\n",
    "mean, std, n"
   ]
  },
  {
   "cell_type": "markdown",
   "id": "cf8cf047",
   "metadata": {},
   "source": [
    "Статистика для теста, согласно условиям задачи, определяется по формуле: $$H = \\dfrac{(n - 1) \\cdot sample variance }{variance}$$ где n - число элементов в выборке, sample_variance - несмещённая оценка дисперсии, variance - утверждаемая нулевой гипотезой дисперсия"
   ]
  },
  {
   "cell_type": "code",
   "execution_count": 10,
   "id": "816be254",
   "metadata": {},
   "outputs": [
    {
     "data": {
      "text/plain": [
       "28.720541753333343"
      ]
     },
     "execution_count": 10,
     "metadata": {},
     "output_type": "execute_result"
    }
   ],
   "source": [
    "sample_variance = std**2\n",
    "variance = 0.0625\n",
    "H = ((n - 1) * sample_variance) / variance\n",
    "H"
   ]
  },
  {
   "cell_type": "markdown",
   "id": "5939d659",
   "metadata": {},
   "source": [
    "Находим критическую область"
   ]
  },
  {
   "cell_type": "code",
   "execution_count": 11,
   "id": "7ea365ea",
   "metadata": {},
   "outputs": [
    {
     "data": {
      "text/plain": [
       "(11.688551922452438, 38.0756272503558)"
      ]
     },
     "execution_count": 11,
     "metadata": {},
     "output_type": "execute_result"
    }
   ],
   "source": [
    "alpha = 0.05\n",
    "\n",
    "t1 = scipy.stats.chi2.ppf(alpha / 2, df=n - 1)\n",
    "t2 = scipy.stats.chi2.ppf(1 - alpha / 2, df=n - 1)\n",
    "\n",
    "t1, t2"
   ]
  },
  {
   "cell_type": "markdown",
   "id": "984c860e",
   "metadata": {},
   "source": [
    "В итоге критическая область равна:\n",
    "$$\\Omega_\\alpha = (-\\infty, 11.69) \\cup (38.07,  \\infty)$$ Таким образом видим, что значение H не попадает в критическую область, значит нулевая гипотеза верна"
   ]
  },
  {
   "cell_type": "markdown",
   "id": "533fff0a",
   "metadata": {},
   "source": [
    "#### Ответ: 1"
   ]
  },
  {
   "cell_type": "code",
   "execution_count": null,
   "id": "cad79264",
   "metadata": {},
   "outputs": [],
   "source": []
  }
 ],
 "metadata": {
  "kernelspec": {
   "display_name": "Python 3 (ipykernel)",
   "language": "python",
   "name": "python3"
  },
  "language_info": {
   "codemirror_mode": {
    "name": "ipython",
    "version": 3
   },
   "file_extension": ".py",
   "mimetype": "text/x-python",
   "name": "python",
   "nbconvert_exporter": "python",
   "pygments_lexer": "ipython3",
   "version": "3.9.6"
  }
 },
 "nbformat": 4,
 "nbformat_minor": 5
}
