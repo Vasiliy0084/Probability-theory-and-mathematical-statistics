{
 "cells": [
  {
   "cell_type": "markdown",
   "id": "2bff3b3a",
   "metadata": {},
   "source": [
    "### Задание №1"
   ]
  },
  {
   "cell_type": "markdown",
   "id": "fb8cb9ec",
   "metadata": {},
   "source": [
    "#### Даны значения величины заработной платы заемщиков банка (zp) и значения их поведенческого кредитного скоринга (ks):\n",
    "#### zp = [35, 45, 190, 200, 40, 70, 54, 150, 120, 110],\n",
    "#### ks = [401, 574, 874, 919, 459, 739, 653, 902, 746, 832].\n",
    "#### Найдите ковариацию этих двух величин с помощью элементарных действий, а затем с помощью функции cov из numpy\n",
    "#### Полученные значения должны быть равны.\n",
    "#### Найдите коэффициент корреляции Пирсона с помощью ковариации и среднеквадратичных отклонений двух признаков,\n",
    "#### а затем с использованием функций из библиотек numpy и pandas."
   ]
  },
  {
   "cell_type": "code",
   "execution_count": 1,
   "id": "3886bc12",
   "metadata": {},
   "outputs": [],
   "source": [
    "import numpy as np\n",
    "import pandas as pd\n",
    "from scipy import stats"
   ]
  },
  {
   "cell_type": "markdown",
   "id": "8c354bf7",
   "metadata": {},
   "source": [
    "Формула ковариации случайных величин $X$ и $Y$:\n",
    "$$\\operatorname{cov}(X, Y) = M\\left( (X - M(X)) (Y - M(Y)) \\right).$$"
   ]
  },
  {
   "cell_type": "code",
   "execution_count": 2,
   "id": "a6db0915",
   "metadata": {},
   "outputs": [
    {
     "data": {
      "text/plain": [
       "(101.4, 709.9)"
      ]
     },
     "execution_count": 2,
     "metadata": {},
     "output_type": "execute_result"
    }
   ],
   "source": [
    "zp = [35, 45, 190, 200, 40, 70, 54, 150, 120, 110]\n",
    "ks = [401, 574, 874, 919, 459, 739, 653, 902, 746, 832]\n",
    "\n",
    "# Вычесляем математическое ожидание для zp и ks, обозначаем МХ и MY соответственно\n",
    "MX = sum(zp)/len(zp)\n",
    "MY = sum(ks)/len(ks)\n",
    "MX, MY"
   ]
  },
  {
   "cell_type": "markdown",
   "id": "f2958fed",
   "metadata": {},
   "source": [
    "Опредеяем значение (X-M(X)) и (Y-M(Y))"
   ]
  },
  {
   "cell_type": "code",
   "execution_count": 3,
   "id": "9a052bc5",
   "metadata": {},
   "outputs": [
    {
     "name": "stdout",
     "output_type": "stream",
     "text": [
      "[-66.4, -56.400000000000006, 88.6, 98.6, -61.400000000000006, -31.400000000000006, -47.400000000000006, 48.599999999999994, 18.599999999999994, 8.599999999999994]\n",
      "[-308.9, -135.89999999999998, 164.10000000000002, 209.10000000000002, -250.89999999999998, 29.100000000000023, -56.89999999999998, 192.10000000000002, 36.10000000000002, 122.10000000000002]\n"
     ]
    }
   ],
   "source": [
    "X_mx = []\n",
    "Y_my = []\n",
    "n = len(zp)\n",
    "for i in range(0,n):\n",
    "    a=zp[i]-MX\n",
    "    b=ks[i]-MY\n",
    "    X_mx.append(a)\n",
    "    Y_my.append(b)\n",
    "    i+=1\n",
    "print(X_mx)\n",
    "print(Y_my)"
   ]
  },
  {
   "cell_type": "markdown",
   "id": "8bd99403",
   "metadata": {},
   "source": [
    "Определяем произведение X_mx * Y_my"
   ]
  },
  {
   "cell_type": "code",
   "execution_count": 4,
   "id": "4d0ce77e",
   "metadata": {},
   "outputs": [
    {
     "name": "stdout",
     "output_type": "stream",
     "text": [
      "[20510.96, 7664.759999999999, 14539.26, 20617.260000000002, 15405.26, -913.7400000000009, 2697.059999999999, 9336.06, 671.4600000000003, 1050.0599999999995]\n"
     ]
    }
   ],
   "source": [
    "XY = []\n",
    "z=len(X_mx)\n",
    "for i in range(0,z):\n",
    "    c=X_mx[i]*Y_my[i]\n",
    "    XY.append(c)\n",
    "    i+=1\n",
    "print(XY)"
   ]
  },
  {
   "cell_type": "markdown",
   "id": "eb048251",
   "metadata": {},
   "source": [
    "Определяем ковариацию:"
   ]
  },
  {
   "cell_type": "code",
   "execution_count": 5,
   "id": "1462f619",
   "metadata": {},
   "outputs": [
    {
     "data": {
      "text/plain": [
       "9157.84"
      ]
     },
     "execution_count": 5,
     "metadata": {},
     "output_type": "execute_result"
    }
   ],
   "source": [
    "cov=sum(XY)/len(XY)\n",
    "cov"
   ]
  },
  {
   "cell_type": "markdown",
   "id": "f4327b0e",
   "metadata": {},
   "source": [
    "#### Тоже самое определяем с помощью функции cov из numpy"
   ]
  },
  {
   "cell_type": "code",
   "execution_count": 6,
   "id": "410ea213",
   "metadata": {},
   "outputs": [
    {
     "data": {
      "text/plain": [
       "array([[ 3494.64,  9157.84],\n",
       "       [ 9157.84, 30468.89]])"
      ]
     },
     "execution_count": 6,
     "metadata": {},
     "output_type": "execute_result"
    }
   ],
   "source": [
    "np.cov(zp, ks, ddof=0)"
   ]
  },
  {
   "cell_type": "markdown",
   "id": "98ee038a",
   "metadata": {},
   "source": [
    "Коэффициент корреляции Пирсона определяется по формуле:\n",
    "$$r_{XY} = \\dfrac{\\sigma_{XY}}{\\sigma_X \\cdot \\sigma_Y}$$ где Здесь $\\sigma_X$, $\\sigma_Y$ — среднее квадратическое отклонение."
   ]
  },
  {
   "cell_type": "markdown",
   "id": "9e7bdd9f",
   "metadata": {},
   "source": [
    "Средние квадратические отклонения определяем из формулы расчета дисперсии $$\\sigma^2 = \\dfrac{1}{m} \\displaystyle\\sum_{i = 1}^m \\left( x_i - \\overline{x} \\right)^2$$"
   ]
  },
  {
   "cell_type": "code",
   "execution_count": 7,
   "id": "ca3657c5",
   "metadata": {},
   "outputs": [],
   "source": [
    "sum_x = sum(zp)\n",
    "sum_y = sum(ks)"
   ]
  },
  {
   "cell_type": "code",
   "execution_count": 8,
   "id": "4d95e4cd",
   "metadata": {},
   "outputs": [
    {
     "name": "stdout",
     "output_type": "stream",
     "text": [
      "[4408.960000000001, 3180.9600000000005, 7849.959999999999, 9721.96, 3769.9600000000005, 985.9600000000004, 2246.7600000000007, 2361.9599999999996, 345.9599999999998, 73.95999999999991]\n"
     ]
    }
   ],
   "source": [
    "Dx=[]\n",
    "Dy=[]\n",
    "Dxy=[]\n",
    "for i in range(0,n):\n",
    "    dx = (X_mx[i])**2\n",
    "    dy = (Y_my[i])**2\n",
    "    dxy = (X_mx[i])*(Y_my[i])\n",
    "    Dx.append(dx)\n",
    "    Dy.append(dy)\n",
    "    Dxy.append(dxy)\n",
    "    i+=1\n",
    "print(Dx)"
   ]
  },
  {
   "cell_type": "markdown",
   "id": "af3f421d",
   "metadata": {},
   "source": [
    "Рассчитываем коэффициент корреляции Пирсона:"
   ]
  },
  {
   "cell_type": "code",
   "execution_count": 9,
   "id": "b8eb6643",
   "metadata": {},
   "outputs": [
    {
     "name": "stdout",
     "output_type": "stream",
     "text": [
      "Коэффициент корреляции Пирсона: , 0.8874900920739162\n"
     ]
    }
   ],
   "source": [
    "Rxy = sum(Dxy)/(sum(Dx)*sum(Dy))**0.5\n",
    "print(f'Коэффициент корреляции Пирсона: , {Rxy}')"
   ]
  },
  {
   "cell_type": "markdown",
   "id": "87c13d48",
   "metadata": {},
   "source": [
    "#### Тоже самое определяем с помощью функции corrcoef из numpy"
   ]
  },
  {
   "cell_type": "code",
   "execution_count": 10,
   "id": "c80073f3",
   "metadata": {},
   "outputs": [
    {
     "data": {
      "text/plain": [
       "array([[1.        , 0.88749009],\n",
       "       [0.88749009, 1.        ]])"
      ]
     },
     "execution_count": 10,
     "metadata": {},
     "output_type": "execute_result"
    }
   ],
   "source": [
    "np.corrcoef(zp, ks)"
   ]
  },
  {
   "cell_type": "code",
   "execution_count": null,
   "id": "bf08e2bd",
   "metadata": {},
   "outputs": [],
   "source": []
  },
  {
   "cell_type": "markdown",
   "id": "0b5f218f",
   "metadata": {},
   "source": [
    "### Задание №2"
   ]
  },
  {
   "cell_type": "markdown",
   "id": "67136237",
   "metadata": {},
   "source": [
    "#### Измерены значения IQ выборки студентов, обучающихся в местных технических вузах:\n",
    "#### 131, 125, 115, 122, 131, 115, 107, 99, 125, 111.\n",
    "#### Известно, что в генеральной совокупности IQ распределен нормально.\n",
    "#### Найдите доверительный интервал для математического ожидания с надежностью 0.95."
   ]
  },
  {
   "cell_type": "markdown",
   "id": "f6995928",
   "metadata": {},
   "source": [
    "По условиям задачи рассматриваемая величина имеет нормальное равномерное распределение. $$T = \\dfrac{\\overline{X} - \\mu}{\\sigma_X / \\sqrt{n}},$$ "
   ]
  },
  {
   "cell_type": "markdown",
   "id": "abef9e91",
   "metadata": {},
   "source": [
    "Доверительный интервал для параметра $\\mu$ будет рассчитываться по формуле:  $$P \\left( \\overline{X} + t_{\\alpha / 2} \\cdot \\dfrac{\\sigma}{\\sqrt{n}} \\leq \\mu \\leq \\overline{X} + t_{1 - \\alpha / 2} \\cdot \\dfrac{\\sigma}{\\sqrt{n}} \\right) = p$$"
   ]
  },
  {
   "cell_type": "code",
   "execution_count": 11,
   "id": "b5b5eea3",
   "metadata": {},
   "outputs": [],
   "source": [
    "iq = np.array([131, 125, 115, 122, 131, 115, 107, 99, 125, 111])\n",
    "mean = iq.mean()\n",
    "std = iq.std(ddof=1)\n",
    "n = iq.shape[0]\n",
    "p = 0.95\n",
    "alpha = 1 - p"
   ]
  },
  {
   "cell_type": "markdown",
   "id": "b8bfedbe",
   "metadata": {},
   "source": [
    "Определяем квантилии выборки"
   ]
  },
  {
   "cell_type": "code",
   "execution_count": 12,
   "id": "02c0d6f9",
   "metadata": {},
   "outputs": [
    {
     "data": {
      "text/plain": [
       "(-2.2621571627409915, 2.2621571627409915)"
      ]
     },
     "execution_count": 12,
     "metadata": {},
     "output_type": "execute_result"
    }
   ],
   "source": [
    "t1 = stats.t.ppf(alpha / 2, df=n - 1)\n",
    "t2 = stats.t.ppf(1 - alpha / 2, df=n - 1)\n",
    "t1, t2"
   ]
  },
  {
   "cell_type": "markdown",
   "id": "78a800c6",
   "metadata": {},
   "source": [
    "Доверительный интервал"
   ]
  },
  {
   "cell_type": "code",
   "execution_count": 13,
   "id": "3494ed32",
   "metadata": {},
   "outputs": [
    {
     "data": {
      "text/plain": [
       "(110.55608365158724, 125.64391634841274)"
      ]
     },
     "execution_count": 13,
     "metadata": {},
     "output_type": "execute_result"
    }
   ],
   "source": [
    "a = (mean + t1 * std / np.sqrt(n))\n",
    "b = (mean + t2 * std / np.sqrt(n))\n",
    "a, b"
   ]
  },
  {
   "cell_type": "code",
   "execution_count": null,
   "id": "31b4e04a",
   "metadata": {},
   "outputs": [],
   "source": []
  },
  {
   "cell_type": "markdown",
   "id": "aa2728e2",
   "metadata": {},
   "source": [
    "### Задание №3"
   ]
  },
  {
   "cell_type": "markdown",
   "id": "fb76fe20",
   "metadata": {},
   "source": [
    "#### Известно, что рост футболистов в сборной распределен нормально с дисперсией генеральной совокупности, равной 25 кв.см. Объем выборки равен 27, среднее выборочное составляет 174.2. \n",
    "#### Найдите доверительный интервал для математического ожидания с надежностью 0.95."
   ]
  },
  {
   "cell_type": "markdown",
   "id": "0edcdb82",
   "metadata": {},
   "source": [
    "В данной заадче величина дисперсии известна, статистика имеет стандартное нормальное распределение"
   ]
  },
  {
   "cell_type": "markdown",
   "id": "085ed046",
   "metadata": {},
   "source": [
    "$$Z = \\dfrac{\\overline{X} - \\mu}{\\sigma / \\sqrt{n}}$$"
   ]
  },
  {
   "cell_type": "code",
   "execution_count": 14,
   "id": "1eaa428f",
   "metadata": {},
   "outputs": [],
   "source": [
    "mean = 174.2\n",
    "scale = 5\n",
    "n = 27\n",
    "p = 0.95\n",
    "alpha = 1 - p"
   ]
  },
  {
   "cell_type": "code",
   "execution_count": 15,
   "id": "fdf97dac",
   "metadata": {},
   "outputs": [
    {
     "data": {
      "text/plain": [
       "(-1.959963984540054, 1.959963984540054)"
      ]
     },
     "execution_count": 15,
     "metadata": {},
     "output_type": "execute_result"
    }
   ],
   "source": [
    "t1 = stats.norm.ppf(alpha / 2)\n",
    "t2 = stats.norm.ppf(1 - alpha / 2)\n",
    "t1, t2"
   ]
  },
  {
   "cell_type": "markdown",
   "id": "14737881",
   "metadata": {},
   "source": [
    "Определяем доверительный интервал"
   ]
  },
  {
   "cell_type": "code",
   "execution_count": 16,
   "id": "2dd0b363",
   "metadata": {},
   "outputs": [
    {
     "data": {
      "text/plain": [
       "(172.3140237765397, 176.08597622346028)"
      ]
     },
     "execution_count": 16,
     "metadata": {},
     "output_type": "execute_result"
    }
   ],
   "source": [
    "a = (mean + t1 * scale / np.sqrt(n))\n",
    "b = (mean + t2 * scale / np.sqrt(n))\n",
    "a, b"
   ]
  }
 ],
 "metadata": {
  "kernelspec": {
   "display_name": "Python 3 (ipykernel)",
   "language": "python",
   "name": "python3"
  },
  "language_info": {
   "codemirror_mode": {
    "name": "ipython",
    "version": 3
   },
   "file_extension": ".py",
   "mimetype": "text/x-python",
   "name": "python",
   "nbconvert_exporter": "python",
   "pygments_lexer": "ipython3",
   "version": "3.9.6"
  }
 },
 "nbformat": 4,
 "nbformat_minor": 5
}
