{
 "cells": [
  {
   "cell_type": "markdown",
   "id": "9df08759",
   "metadata": {},
   "source": [
    "### Задание №1"
   ]
  },
  {
   "cell_type": "markdown",
   "id": "589c336b",
   "metadata": {},
   "source": [
    "#### Имеется колода в 52 карты. Найти число возможностей вытянуть из неё 4 карты так, чтобы среди них был хотя бы один туз."
   ]
  },
  {
   "cell_type": "markdown",
   "id": "e0dad9ec",
   "metadata": {},
   "source": [
    "Для решения задачи используем формулу сочетания из n элементов по k элементов"
   ]
  },
  {
   "cell_type": "markdown",
   "id": "0fc793d3",
   "metadata": {},
   "source": [
    "$$ C_n^k = \\frac{n!}{k!(n-k)!} $$"
   ]
  },
  {
   "cell_type": "markdown",
   "id": "99e7b86e",
   "metadata": {},
   "source": [
    "Считаем общее количество возможных исходов, т.е $ C_{52}^4 $"
   ]
  },
  {
   "cell_type": "code",
   "execution_count": 1,
   "id": "7af64a4e",
   "metadata": {},
   "outputs": [],
   "source": [
    "import numpy as np"
   ]
  },
  {
   "cell_type": "code",
   "execution_count": 2,
   "id": "91321a4d",
   "metadata": {},
   "outputs": [
    {
     "data": {
      "text/plain": [
       "270725.0"
      ]
     },
     "execution_count": 2,
     "metadata": {},
     "output_type": "execute_result"
    }
   ],
   "source": [
    "a = np.math.factorial(52) / (np.math.factorial(4) * np.math.factorial(52 - 4))\n",
    "a"
   ]
  },
  {
   "cell_type": "markdown",
   "id": "8e2f18a1",
   "metadata": {},
   "source": [
    "Считаем количество исходов при которых будут вытащены любые другие карты кроме туза, т.е. $ C_{48}^4 $"
   ]
  },
  {
   "cell_type": "code",
   "execution_count": 3,
   "id": "9b2ff67f",
   "metadata": {},
   "outputs": [
    {
     "data": {
      "text/plain": [
       "194580.0"
      ]
     },
     "execution_count": 3,
     "metadata": {},
     "output_type": "execute_result"
    }
   ],
   "source": [
    "b = np.math.factorial(48) / (np.math.factorial(4) * np.math.factorial(48 - 4))\n",
    "b"
   ]
  },
  {
   "cell_type": "markdown",
   "id": "b1a9ac59",
   "metadata": {},
   "source": [
    "Определяем разницу исходов, т.е число исходов при которых хотябы один раз будет вытащен туз:"
   ]
  },
  {
   "cell_type": "code",
   "execution_count": 4,
   "id": "82e5ef8e",
   "metadata": {},
   "outputs": [
    {
     "data": {
      "text/plain": [
       "76145.0"
      ]
     },
     "execution_count": 4,
     "metadata": {},
     "output_type": "execute_result"
    }
   ],
   "source": [
    "a-b"
   ]
  },
  {
   "cell_type": "code",
   "execution_count": null,
   "id": "13a9fc0c",
   "metadata": {},
   "outputs": [],
   "source": []
  },
  {
   "cell_type": "markdown",
   "id": "722bc2e9",
   "metadata": {},
   "source": [
    "### Задание № 2, 3"
   ]
  },
  {
   "cell_type": "markdown",
   "id": "67042e2e",
   "metadata": {},
   "source": [
    "#### Из 60 вопросов, входящих в экзаменационные билеты, студент знает 50. Случайным образом студент вытягивает 3 вопроса. Какова вероятность, что все выбранные вопросы знакомы студенту? Какова вероятность что два из трёх вопросов знакомы студенту?"
   ]
  },
  {
   "cell_type": "markdown",
   "id": "b7e6c433",
   "metadata": {},
   "source": [
    "Задание №2"
   ]
  },
  {
   "cell_type": "markdown",
   "id": "fd5e2de8",
   "metadata": {},
   "source": [
    "Вероятность наступления события рассчитываем по формуле $$ P(А) = \\frac{m}{n} $$\n",
    "где n - общее число исходов, m - число исходов, которые влекут за собой наступление события"
   ]
  },
  {
   "cell_type": "markdown",
   "id": "8487a4c4",
   "metadata": {},
   "source": [
    "Определяем вероятность того, что первый вопрос знаком студенту"
   ]
  },
  {
   "cell_type": "code",
   "execution_count": 5,
   "id": "830c1874",
   "metadata": {},
   "outputs": [
    {
     "data": {
      "text/plain": [
       "0.8333333333333334"
      ]
     },
     "execution_count": 5,
     "metadata": {},
     "output_type": "execute_result"
    }
   ],
   "source": [
    "p_1 = 50/60\n",
    "p_1"
   ]
  },
  {
   "cell_type": "markdown",
   "id": "cdb747a7",
   "metadata": {},
   "source": [
    "Аналогичным способом определяем вероятность того что студенту знаком второй и третий вопросы:"
   ]
  },
  {
   "cell_type": "code",
   "execution_count": 6,
   "id": "15ac47b6",
   "metadata": {},
   "outputs": [],
   "source": [
    "p_2 = 49/59\n",
    "p_3 = 48/58"
   ]
  },
  {
   "cell_type": "markdown",
   "id": "74a9811a",
   "metadata": {},
   "source": [
    "Вероятость того, что все три вопроса знакомы студенту равна произведению вероятностей всех трёх событий"
   ]
  },
  {
   "cell_type": "code",
   "execution_count": 7,
   "id": "4ce4112f",
   "metadata": {},
   "outputs": [
    {
     "data": {
      "text/plain": [
       "0.5727644652250146"
      ]
     },
     "execution_count": 7,
     "metadata": {},
     "output_type": "execute_result"
    }
   ],
   "source": [
    "p_1*p_2*p_3"
   ]
  },
  {
   "cell_type": "code",
   "execution_count": null,
   "id": "9fb929be",
   "metadata": {},
   "outputs": [],
   "source": []
  },
  {
   "cell_type": "markdown",
   "id": "849332c4",
   "metadata": {},
   "source": [
    "Задание №3"
   ]
  },
  {
   "cell_type": "markdown",
   "id": "bec503ce",
   "metadata": {},
   "source": [
    "Исходя из условия задачи, студент вытаскивает один не знакомый вопрос, при этом он может быть вытащен как 1-м, так и 2-м и 3-м по счёту. Учтём все возможные варианты и сложим вероятности этих событий:"
   ]
  },
  {
   "cell_type": "code",
   "execution_count": 8,
   "id": "cafa4004",
   "metadata": {},
   "outputs": [
    {
     "data": {
      "text/plain": [
       "0.35797779076563413"
      ]
     },
     "execution_count": 8,
     "metadata": {},
     "output_type": "execute_result"
    }
   ],
   "source": [
    "(10 / 60 * 50 / 59 * 49 / 58) + (50 / 60 * 10 / 59 * 49 / 58) + (50 / 60 * 49 / 59 * 10 / 58)"
   ]
  },
  {
   "cell_type": "code",
   "execution_count": null,
   "id": "3ff459fd",
   "metadata": {},
   "outputs": [],
   "source": []
  },
  {
   "cell_type": "markdown",
   "id": "39adf6f2",
   "metadata": {},
   "source": [
    "### Задание №4"
   ]
  },
  {
   "cell_type": "markdown",
   "id": "beec835d",
   "metadata": {},
   "source": [
    "#### Допустим, имеется некоторая очень редкая болезнь (поражает 0.1% населения). Вы приходите к врачу, вам делают тест на эту болезнь, и тест оказывается положительным. Врач говорит вам, что этот тест верно выявляет 99% больных этой болезнью и всего лишь в 1% случаев даёт ложный положительный ответ.\n",
    "\n",
    "#### Вопрос: какова вероятность, что вы действительно больны ей?\n",
    "\n",
    "#### Подсказка: используйте формулу Байеса с раскрытием знаменателя с помощью формулы полной вероятности."
   ]
  },
  {
   "cell_type": "markdown",
   "id": "1bc9e262",
   "metadata": {},
   "source": [
    "Формула Байеса $$P(A|B) = \\frac{P(B|A) \\cdot P(A)}{P(B)}$$"
   ]
  },
  {
   "cell_type": "markdown",
   "id": "dd219dc6",
   "metadata": {},
   "source": [
    "Принимаем что событие $А$ - человек болен, Событие $B$ - тест положительный"
   ]
  },
  {
   "cell_type": "markdown",
   "id": "e27c90a5",
   "metadata": {},
   "source": [
    "Расскрываем знаменатель с помощью формулы полной вероятности"
   ]
  },
  {
   "cell_type": "markdown",
   "id": "c86de8c9",
   "metadata": {},
   "source": [
    "$$P(B) = P(B | A) \\cdot P(A) + P \\left( B | \\overline{A} \\right) \\cdot P \\left( \\overline{A} \\right)$$"
   ]
  },
  {
   "cell_type": "code",
   "execution_count": 9,
   "id": "e60c6ccc",
   "metadata": {},
   "outputs": [
    {
     "data": {
      "text/plain": [
       "0.01098"
      ]
     },
     "execution_count": 9,
     "metadata": {},
     "output_type": "execute_result"
    }
   ],
   "source": [
    "p_B = 0.99 * 0.001 + 0.01 * 0.999\n",
    "p_B"
   ]
  },
  {
   "cell_type": "markdown",
   "id": "7f5a2a7b",
   "metadata": {},
   "source": [
    "Подставляем значения в формулу Байеса"
   ]
  },
  {
   "cell_type": "code",
   "execution_count": 10,
   "id": "645c943c",
   "metadata": {},
   "outputs": [
    {
     "data": {
      "text/plain": [
       "0.09016393442622951"
      ]
     },
     "execution_count": 10,
     "metadata": {},
     "output_type": "execute_result"
    }
   ],
   "source": [
    "p_AB = (0.99 * 0.001) / p_B\n",
    "p_AB"
   ]
  },
  {
   "cell_type": "code",
   "execution_count": null,
   "id": "6961b9ce",
   "metadata": {},
   "outputs": [],
   "source": []
  }
 ],
 "metadata": {
  "kernelspec": {
   "display_name": "Python 3 (ipykernel)",
   "language": "python",
   "name": "python3"
  },
  "language_info": {
   "codemirror_mode": {
    "name": "ipython",
    "version": 3
   },
   "file_extension": ".py",
   "mimetype": "text/x-python",
   "name": "python",
   "nbconvert_exporter": "python",
   "pygments_lexer": "ipython3",
   "version": "3.9.6"
  }
 },
 "nbformat": 4,
 "nbformat_minor": 5
}
