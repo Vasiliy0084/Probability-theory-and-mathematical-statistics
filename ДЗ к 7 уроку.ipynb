{
 "cells": [
  {
   "cell_type": "markdown",
   "id": "9b298b10",
   "metadata": {},
   "source": [
    "### Задача №1"
   ]
  },
  {
   "cell_type": "markdown",
   "id": "d6323df6",
   "metadata": {},
   "source": [
    "Дана матрица объект-признак\n",
    "```\n",
    "X = [[ 1.22401313,  2.30868478,  3.03636353,  2.69287214],\n",
    "     [-0.18757272,  1.30337355,  5.12093014,  3.46363202],\n",
    "     [-0.81094525,  1.82463398,  5.79686488,  1.86159445],\n",
    "     [ 0.75129018,  2.67392052,  3.65529809,  1.66746094],\n",
    "     [ 0.00972362,  1.97367255,  2.50594319,  1.69755173],\n",
    "     [-0.62972637,  0.77750764,  2.84124027,  4.54410559],\n",
    "     [ 2.29536229,  1.81206697,  1.95026215,  1.51874636],\n",
    "     [ 0.0920418 ,  2.26971361,  7.47708735,  2.61081203],\n",
    "     [ 2.39252799,  3.17563985,  3.61420599,  5.10773362],\n",
    "     [ 0.54983815,  2.87988651,  1.65752765,  1.59635987]]\n",
    "```\n",
    "и значения целевой переменной\n",
    "```\n",
    "y = [ 9.26193358,  9.700363  ,  8.67214805,  8.74796974,  6.18689108,\n",
    "      7.53312713,  7.57643777, 12.44965478, 14.29010746,  6.68361218]\n",
    "```\n",
    "\n",
    "Подберите два признака (из четырёх) так, чтобы уровень линейной зависимости целевой переменной от значений этих признаков был максимальным. Другими словами, модель линейной регрессии на этих признаках должна давать наилучший результат. В качестве ответа запишите значение коэффициента детерминации для модели на этих признаках."
   ]
  },
  {
   "cell_type": "code",
   "execution_count": 1,
   "id": "cc56a8a3",
   "metadata": {},
   "outputs": [],
   "source": [
    "import numpy as np\n",
    "from sklearn.linear_model import LinearRegression"
   ]
  },
  {
   "cell_type": "code",
   "execution_count": 2,
   "id": "bdac43ed",
   "metadata": {},
   "outputs": [],
   "source": [
    "x = np.array([[ 1.22401313,  2.30868478,  3.03636353,  2.69287214],\n",
    "     [-0.18757272,  1.30337355,  5.12093014,  3.46363202],\n",
    "     [-0.81094525,  1.82463398,  5.79686488,  1.86159445],\n",
    "     [ 0.75129018,  2.67392052,  3.65529809,  1.66746094],\n",
    "     [ 0.00972362,  1.97367255,  2.50594319,  1.69755173],\n",
    "     [-0.62972637,  0.77750764,  2.84124027,  4.54410559],\n",
    "     [ 2.29536229,  1.81206697,  1.95026215,  1.51874636],\n",
    "     [ 0.0920418 ,  2.26971361,  7.47708735,  2.61081203],\n",
    "     [ 2.39252799,  3.17563985,  3.61420599,  5.10773362],\n",
    "     [ 0.54983815,  2.87988651,  1.65752765,  1.59635987]])"
   ]
  },
  {
   "cell_type": "code",
   "execution_count": 3,
   "id": "244d3809",
   "metadata": {},
   "outputs": [],
   "source": [
    "y = np.array([ 9.26193358,  9.700363  ,  8.67214805,  8.74796974,  6.18689108,\n",
    "      7.53312713,  7.57643777, 12.44965478, 14.29010746,  6.68361218])"
   ]
  },
  {
   "cell_type": "markdown",
   "id": "fd9075b2",
   "metadata": {},
   "source": [
    "Выбераем два признака из четырех"
   ]
  },
  {
   "cell_type": "code",
   "execution_count": 4,
   "id": "19f6023a",
   "metadata": {},
   "outputs": [],
   "source": [
    "x1 = x[:, [0,1]]\n",
    "x2 = x[:, [0,2]]\n",
    "x3 = x[:, [0,3]]\n",
    "x4 = x[:, [1,2]]\n",
    "x5 = x[:, [1,3]]\n",
    "x6 = x[:, [2,3]]"
   ]
  },
  {
   "cell_type": "code",
   "execution_count": 5,
   "id": "53b56629",
   "metadata": {},
   "outputs": [],
   "source": [
    "all_x2 = [x1, x2, x3, x4, x5, x6]"
   ]
  },
  {
   "cell_type": "markdown",
   "id": "eaf88278",
   "metadata": {},
   "source": [
    "Определяем коэффициент детерминации"
   ]
  },
  {
   "cell_type": "code",
   "execution_count": 6,
   "id": "10b40c03",
   "metadata": {},
   "outputs": [],
   "source": [
    "def sum_of_squares(samples: np.ndarray) -> float:\n",
    "    \"\"\"Сумма квадратов отклонений.\n",
    "    \"\"\"\n",
    "    \n",
    "    return ((samples - samples.mean()) ** 2).sum()"
   ]
  },
  {
   "cell_type": "markdown",
   "id": "ecb8fd88",
   "metadata": {},
   "source": [
    "Считаем коэффициент детерминации"
   ]
  },
  {
   "cell_type": "code",
   "execution_count": 7,
   "id": "1f5ded49",
   "metadata": {},
   "outputs": [
    {
     "name": "stdout",
     "output_type": "stream",
     "text": [
      "R1 = 0.18113594742585215\n",
      "R2 = 0.763424623879315\n",
      "R3 = 0.4532966783144078\n",
      "R4 = 0.5479482734039008\n",
      "R5 = 0.6062055761129932\n",
      "R6 = 0.622441987650532\n"
     ]
    }
   ],
   "source": [
    "for i in range(0, 6):\n",
    "    lr = LinearRegression(fit_intercept=True).fit(all_x2[i], y)\n",
    "    b = lr.coef_\n",
    "    e = y - (all_x2[i]).dot(b)\n",
    "    r = 1 - sum_of_squares(e) / sum_of_squares(y)\n",
    "    print(f'R{i+1} = {r}')"
   ]
  },
  {
   "cell_type": "markdown",
   "id": "4a4b9aa9",
   "metadata": {},
   "source": [
    "#### Таким оразом видим, что максимальный уровень линейной зависимости целевой переменной равен R2 = 0,7634346 у признака Х2"
   ]
  },
  {
   "cell_type": "code",
   "execution_count": null,
   "id": "17406cfd",
   "metadata": {},
   "outputs": [],
   "source": []
  },
  {
   "cell_type": "markdown",
   "id": "0e89dc5a",
   "metadata": {},
   "source": [
    "### Задача №2"
   ]
  },
  {
   "cell_type": "markdown",
   "id": "35ceb809",
   "metadata": {},
   "source": [
    "#### Является ли значимым уравнение регрессии, полученное в предыдущей задаче? В качестве ответа запишите 1, если является, и 0 иначе."
   ]
  },
  {
   "cell_type": "markdown",
   "id": "e8d5387b",
   "metadata": {},
   "source": [
    "Проверка значимости линейной регрессии осуществляется с помощью F-теста Фисшера\n",
    "При F-тесте используется статистика:\n",
    "$$F = \\dfrac{R^2 / m}{(1 - R^2) / (n - m - 1)},$$\n",
    "где $R^2$ — коэффициент детерминации, $n$ — число наблюдений, $m$ — число факторов. Такая статистика в предположении верности нулевой гипотезы имеет __F-распределение Фишера__ с параметрами $k_1 = m$, $k_2 = n - m - 1$."
   ]
  },
  {
   "cell_type": "code",
   "execution_count": 8,
   "id": "03e65d17",
   "metadata": {},
   "outputs": [
    {
     "data": {
      "text/plain": [
       "(2, 7)"
      ]
     },
     "execution_count": 8,
     "metadata": {},
     "output_type": "execute_result"
    }
   ],
   "source": [
    "n = x2.shape[0]\n",
    "m = 2\n",
    "R2 = 0.763424623879315\n",
    "\n",
    "k1 = m\n",
    "k2 = n - m - 1\n",
    "\n",
    "k1, k2"
   ]
  },
  {
   "cell_type": "code",
   "execution_count": 9,
   "id": "9d8c4d65",
   "metadata": {},
   "outputs": [],
   "source": [
    "from scipy import stats\n",
    "from matplotlib import pyplot as plt"
   ]
  },
  {
   "cell_type": "code",
   "execution_count": 10,
   "id": "dd5108fe",
   "metadata": {},
   "outputs": [
    {
     "data": {
      "text/plain": [
       "4.73741412777588"
      ]
     },
     "execution_count": 10,
     "metadata": {},
     "output_type": "execute_result"
    }
   ],
   "source": [
    "alpha = 0.05\n",
    "\n",
    "t = stats.f.ppf(1 - alpha, k1, k2)\n",
    "t"
   ]
  },
  {
   "cell_type": "markdown",
   "id": "199893d6",
   "metadata": {},
   "source": [
    "Критическая область: $$\\Omega_\\alpha = \\left( 4.74, \\infty \\right)$$"
   ]
  },
  {
   "cell_type": "code",
   "execution_count": 11,
   "id": "c3699b13",
   "metadata": {},
   "outputs": [
    {
     "data": {
      "text/plain": [
       "(0.0, 0.5)"
      ]
     },
     "execution_count": 11,
     "metadata": {},
     "output_type": "execute_result"
    },
    {
     "data": {
      "image/png": "[encoded data removed]",
      "text/plain": [
       "<Figure size 432x288 with 1 Axes>"
      ]
     },
     "metadata": {
      "needs_background": "light"
     },
     "output_type": "display_data"
    }
   ],
   "source": [
    "ox = np.linspace(0, 7, 500)\n",
    "oy = stats.f.pdf(ox, k1, k2)\n",
    "\n",
    "ox_right = np.linspace(t, 7, 100)\n",
    "oy_right = stats.f.pdf(ox_right, k1, k2)\n",
    "\n",
    "plt.plot(ox, oy)\n",
    "plt.fill_between(ox_right, oy_right, alpha=0.5)\n",
    "\n",
    "plt.ylim(0, 0.5)"
   ]
  },
  {
   "cell_type": "markdown",
   "id": "46124717",
   "metadata": {},
   "source": [
    "Считаем значение статистики"
   ]
  },
  {
   "cell_type": "code",
   "execution_count": 12,
   "id": "bb46f50c",
   "metadata": {},
   "outputs": [
    {
     "data": {
      "text/plain": [
       "11.294439122922636"
      ]
     },
     "execution_count": 12,
     "metadata": {},
     "output_type": "execute_result"
    }
   ],
   "source": [
    "F = (R2 / k1) / ((1 - R2) / k2)\n",
    "F"
   ]
  },
  {
   "cell_type": "markdown",
   "id": "6c82f917",
   "metadata": {},
   "source": [
    "Статистика попала в критическую область, уравнение регрессии признаётся значимым."
   ]
  },
  {
   "cell_type": "markdown",
   "id": "b9525cd8",
   "metadata": {},
   "source": [
    "#### Ответ: 1"
   ]
  },
  {
   "cell_type": "code",
   "execution_count": null,
   "id": "fee3ba58",
   "metadata": {},
   "outputs": [],
   "source": []
  },
  {
   "cell_type": "markdown",
   "id": "0a8abe71",
   "metadata": {},
   "source": [
    "### Задача №3"
   ]
  },
  {
   "cell_type": "markdown",
   "id": "f1fbcce3",
   "metadata": {},
   "source": [
    "Для проведения A/B-тестирования сайта интернет-магазина были получены следующие данные: страница `A` была посещена 2509 раз, из них 77 закончились совершением покупки, страница `B` была посещена 1465 раз, 60 из них закончились совершением покупки. Является ли значимым отличие конверсии на страницах `A` и `B`? В качестве ответа запишите 1, если является, и 0 иначе.\n",
    "\n",
    "_Подсказка_. Реализуйте двухвыборочный t-тест. В качестве выборок здесь можно взять наборы меток совершения покупки (0 или 1) каждым посетителем."
   ]
  },
  {
   "cell_type": "markdown",
   "id": "64001bb0",
   "metadata": {},
   "source": [
    "Для проверки данной гипотезы используется следующая статистика:\n",
    "$$t = \\dfrac{\\overline{X_1} - \\overline{X_2}}{\\sigma_\\Delta}$$"
   ]
  },
  {
   "cell_type": "markdown",
   "id": "ac997a65",
   "metadata": {},
   "source": [
    "$\\sigma_\\Delta$ Опрееляется по формуле: $$\\sigma_\\Delta = \\sqrt{\\dfrac{\\sigma_{X_1}^2}{n_1} + \\dfrac{\\sigma_{X_2}^2}{n_2}}$$"
   ]
  },
  {
   "cell_type": "code",
   "execution_count": 13,
   "id": "858f5ec5",
   "metadata": {},
   "outputs": [],
   "source": [
    "n1 = 2509\n",
    "n2 = 1465\n",
    "alpha = 0.05"
   ]
  },
  {
   "cell_type": "code",
   "execution_count": 14,
   "id": "adcda98e",
   "metadata": {},
   "outputs": [],
   "source": [
    "x1 = np.hstack((np.zeros(n1 - 77), np.ones(77)))\n",
    "x2 = np.hstack((np.zeros(n2 - 60), np.ones(60)))"
   ]
  },
  {
   "cell_type": "markdown",
   "id": "8ae7c8f0",
   "metadata": {},
   "source": [
    "Определяем значение $\\sigma_\\Delta$:"
   ]
  },
  {
   "cell_type": "code",
   "execution_count": 15,
   "id": "76ff397d",
   "metadata": {},
   "outputs": [],
   "source": [
    "s1 = x1.std(ddof=1)\n",
    "s2 = x2.std(ddof=1)"
   ]
  },
  {
   "cell_type": "code",
   "execution_count": 16,
   "id": "e9b8b141",
   "metadata": {},
   "outputs": [
    {
     "data": {
      "text/plain": [
       "0.006220171278295827"
      ]
     },
     "execution_count": 16,
     "metadata": {},
     "output_type": "execute_result"
    }
   ],
   "source": [
    "s_delta = np.sqrt(s1 ** 2 / n1 + s2 ** 2 / n2)\n",
    "s_delta"
   ]
  },
  {
   "cell_type": "markdown",
   "id": "c6882e95",
   "metadata": {},
   "source": [
    "Определяем значение статистики:"
   ]
  },
  {
   "cell_type": "code",
   "execution_count": 17,
   "id": "c79ecbe4",
   "metadata": {},
   "outputs": [
    {
     "data": {
      "text/plain": [
       "-1.6504551408398205"
      ]
     },
     "execution_count": 17,
     "metadata": {},
     "output_type": "execute_result"
    }
   ],
   "source": [
    "t = (x1.mean() - x2.mean()) / s_delta\n",
    "t"
   ]
  },
  {
   "cell_type": "markdown",
   "id": "fd46a05e",
   "metadata": {},
   "source": [
    "Определяем квантили распределения Стьюдента: $$df = \\dfrac{\\left( \\dfrac{\\sigma_{X_1}^2}{n_1} + \\dfrac{\\sigma_{X_2}^2}{n_2} \\right)^2}{\\dfrac{\\left( \\sigma_{X_1}^2 / n_1 \\right)^2}{n_1 - 1} + \\dfrac{\\left( \\sigma_{X_2}^2 / n_2 \\right)^2}{n_2 - 1}}$$"
   ]
  },
  {
   "cell_type": "code",
   "execution_count": 18,
   "id": "19e33146",
   "metadata": {},
   "outputs": [
    {
     "data": {
      "text/plain": [
       "2732.8025644352133"
      ]
     },
     "execution_count": 18,
     "metadata": {},
     "output_type": "execute_result"
    }
   ],
   "source": [
    "df = (s1 ** 2 / n1 + s2 ** 2 / n2) ** 2 / \\\n",
    "    ((s1 ** 2 / n1) ** 2 / (n1 - 1) + (s2 ** 2 / n2) ** 2 / (n2 - 1))\n",
    "\n",
    "df"
   ]
  },
  {
   "cell_type": "code",
   "execution_count": 19,
   "id": "0618ec52",
   "metadata": {},
   "outputs": [
    {
     "data": {
      "text/plain": [
       "(-1.9608324352746576, 1.9608324352746571)"
      ]
     },
     "execution_count": 19,
     "metadata": {},
     "output_type": "execute_result"
    }
   ],
   "source": [
    "t1 = stats.t.ppf(alpha / 2, df=df)\n",
    "t2 = stats.t.ppf(1 - alpha / 2, df=df)\n",
    "\n",
    "t1, t2"
   ]
  },
  {
   "cell_type": "markdown",
   "id": "7d553a6f",
   "metadata": {},
   "source": [
    "Критическая область имеет вид:\n",
    "$$\\Omega_\\alpha = (-\\infty, -1.96) \\cup (1.96, \\infty)$$"
   ]
  },
  {
   "cell_type": "markdown",
   "id": "ae1e307e",
   "metadata": {},
   "source": [
    "Значение статистики t не попало в критическую область, следовательно отличие конверсии на страницах `A` и `B` не является значимым"
   ]
  },
  {
   "cell_type": "markdown",
   "id": "ad467718",
   "metadata": {},
   "source": [
    "Проверка через готовую реализацию:"
   ]
  },
  {
   "cell_type": "code",
   "execution_count": 20,
   "id": "65313f01",
   "metadata": {},
   "outputs": [
    {
     "data": {
      "text/plain": [
       "Ttest_indResult(statistic=-1.6504551408398205, pvalue=0.09896479217925898)"
      ]
     },
     "execution_count": 20,
     "metadata": {},
     "output_type": "execute_result"
    }
   ],
   "source": [
    "stats.ttest_ind(x1, x2, equal_var=False)"
   ]
  },
  {
   "cell_type": "markdown",
   "id": "b7e8a1aa",
   "metadata": {},
   "source": [
    "#### Ответ: 0"
   ]
  },
  {
   "cell_type": "code",
   "execution_count": null,
   "id": "63da796b",
   "metadata": {},
   "outputs": [],
   "source": []
  }
 ],
 "metadata": {
  "kernelspec": {
   "display_name": "Python 3 (ipykernel)",
   "language": "python",
   "name": "python3"
  },
  "language_info": {
   "codemirror_mode": {
    "name": "ipython",
    "version": 3
   },
   "file_extension": ".py",
   "mimetype": "text/x-python",
   "name": "python",
   "nbconvert_exporter": "python",
   "pygments_lexer": "ipython3",
   "version": "3.9.6"
  }
 },
 "nbformat": 4,
 "nbformat_minor": 5
}
