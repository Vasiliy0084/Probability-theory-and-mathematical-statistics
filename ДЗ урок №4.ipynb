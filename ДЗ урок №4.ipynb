{
 "cells": [
  {
   "cell_type": "markdown",
   "id": "b21393f9",
   "metadata": {},
   "source": [
    "### Задание №1"
   ]
  },
  {
   "cell_type": "markdown",
   "id": "ca0796db",
   "metadata": {},
   "source": [
    "#### Случайная непрерывная величина A имеет равномерное распределение на промежутке (200, 800].\n",
    "#### Найдите ее среднее значение и дисперсию."
   ]
  },
  {
   "cell_type": "markdown",
   "id": "5ef700e3",
   "metadata": {},
   "source": [
    "Математическое ожидание и дисперсия рассчитываются по формуле:\n",
    "$$M(X) = \\dfrac{a + b}{2}$$ $$D(X) = \\dfrac{(b - a)^2}{12}$$"
   ]
  },
  {
   "cell_type": "code",
   "execution_count": 1,
   "id": "06707f66",
   "metadata": {},
   "outputs": [
    {
     "name": "stdout",
     "output_type": "stream",
     "text": [
      "Математическое ожидание: 500.0\n",
      "Дисперсия: 30000.0\n"
     ]
    }
   ],
   "source": [
    "a = 200\n",
    "b = 800\n",
    "Mx = (a+b)/2\n",
    "Dx = ((b-a)**2)/12\n",
    "print(f'Математическое ожидание: {Mx}\\nДисперсия: {Dx}')"
   ]
  },
  {
   "cell_type": "code",
   "execution_count": null,
   "id": "68e1d4fd",
   "metadata": {},
   "outputs": [],
   "source": []
  },
  {
   "cell_type": "markdown",
   "id": "54fbd11f",
   "metadata": {},
   "source": [
    "### Задание №2"
   ]
  },
  {
   "cell_type": "markdown",
   "id": "be10830e",
   "metadata": {},
   "source": [
    "#### О случайной непрерывной равномерно распределенной величине B известно, что ее дисперсия равна 0.2.\n",
    "#### Можно ли найти правую границу величины B и ее среднее значение зная, что левая граница равна 0.5?\n",
    "#### Если да, найдите ее."
   ]
  },
  {
   "cell_type": "markdown",
   "id": "95c0cc28",
   "metadata": {},
   "source": [
    "Из формулы дисперсии $$D(X) = \\dfrac{(b - a)^2}{12}$$ выразим правую границу В"
   ]
  },
  {
   "cell_type": "markdown",
   "id": "1ede21f9",
   "metadata": {},
   "source": [
    "$$ b = \\sqrt{D(X)*12} + a $$"
   ]
  },
  {
   "cell_type": "code",
   "execution_count": 2,
   "id": "ea027e3b",
   "metadata": {},
   "outputs": [
    {
     "data": {
      "text/plain": [
       "2.049193338482967"
      ]
     },
     "execution_count": 2,
     "metadata": {},
     "output_type": "execute_result"
    }
   ],
   "source": [
    "d_x = 0.2\n",
    "a = 0.5\n",
    "b = (d_x*12)**0.5 + a\n",
    "b"
   ]
  },
  {
   "cell_type": "markdown",
   "id": "fad531fa",
   "metadata": {},
   "source": [
    "Среднее значение опредеялется по формуле математического ожидания $$M(X) = \\dfrac{a + b}{2}$$"
   ]
  },
  {
   "cell_type": "code",
   "execution_count": 3,
   "id": "5c1a7c37",
   "metadata": {},
   "outputs": [
    {
     "data": {
      "text/plain": [
       "1.2745966692414834"
      ]
     },
     "execution_count": 3,
     "metadata": {},
     "output_type": "execute_result"
    }
   ],
   "source": [
    "m_x = (a+b)/2\n",
    "m_x"
   ]
  },
  {
   "cell_type": "code",
   "execution_count": null,
   "id": "4bce05ca",
   "metadata": {},
   "outputs": [],
   "source": []
  },
  {
   "cell_type": "markdown",
   "id": "abda3d86",
   "metadata": {},
   "source": [
    "### Задание №3"
   ]
  },
  {
   "cell_type": "markdown",
   "id": "7d05dedf",
   "metadata": {},
   "source": [
    "#### Непрерывная случайная величина X распределена нормально и задана плотностью распределения\n",
    "#### $$f(x) = \\dfrac{1}{4 \\cdot \\sqrt{2 \\pi}} \\cdot \\exp \\left(- \\frac{(x + 2)^2}{32}\\right)$$\n",
    "#### Найдите:\n",
    "#### а). M(X)\n",
    "#### б). D(X)\n",
    "#### в). std(X) (среднее квадратичное отклонение)"
   ]
  },
  {
   "cell_type": "markdown",
   "id": "c3b0b0a2",
   "metadata": {},
   "source": [
    "Функция плотности распределения вероятности нормального распределения задается формулой: $$f(x) = \\dfrac{1}{\\sqrt{2 \\pi \\sigma^2}} \\cdot \\exp \\left(- \\frac{(x - \\mu)^2}{2 \\sigma^2} \\right)$$ Параметры $\\mu$ и $\\sigma$ задают, соответственно, математическое ожидание и среднее квадратическое отклонение случайной величины:\n",
    "$$M(X) = \\mu, \\:\\: D(X) = \\sigma^2, \\:\\: std(X) =\\sqrt{D(X)} $$"
   ]
  },
  {
   "cell_type": "markdown",
   "id": "971cbf10",
   "metadata": {},
   "source": [
    "Таким образом мы получаем:"
   ]
  },
  {
   "cell_type": "markdown",
   "id": "2e228e12",
   "metadata": {},
   "source": [
    "M(X) = -2"
   ]
  },
  {
   "cell_type": "markdown",
   "id": "e20778f4",
   "metadata": {},
   "source": [
    "D(X) = 16"
   ]
  },
  {
   "cell_type": "markdown",
   "id": "2c7c08bd",
   "metadata": {},
   "source": [
    "std(X) = 4"
   ]
  },
  {
   "cell_type": "code",
   "execution_count": null,
   "id": "3bddf83d",
   "metadata": {},
   "outputs": [],
   "source": []
  },
  {
   "cell_type": "markdown",
   "id": "6ce2a3ee",
   "metadata": {},
   "source": [
    "### Задание №4"
   ]
  },
  {
   "cell_type": "markdown",
   "id": "b8c5e10c",
   "metadata": {},
   "source": [
    "#### Рост взрослого населения города X имеет нормальное распределение.\n",
    "#### Причем, средний рост равен 174 см, а среднее квадратичное отклонение равно 8 см.\n",
    "#### Какова вероятность того, что случайным образом выбранный взрослый человек имеет рост:\n",
    "#### а). больше 182 см\n",
    "#### б). больше 190 см\n",
    "#### в). от 166 см до 190 см\n",
    "#### г). от 166 см до 182 см\n",
    "#### д). от 158 см до 190 см\n",
    "#### е). не выше 150 см или не ниже 190 см\n",
    "#### ё). не выше 150 см или не ниже 198 см\n",
    "#### ж). ниже 166 см."
   ]
  },
  {
   "cell_type": "markdown",
   "id": "41133dc2",
   "metadata": {},
   "source": [
    "Вероятность попадания в интервал $(a, b)$ рассчитывается по формуле:\n",
    "$$P(a < X < b) = F(b) - F(a)$$"
   ]
  },
  {
   "cell_type": "code",
   "execution_count": 4,
   "id": "40ea2a10",
   "metadata": {},
   "outputs": [],
   "source": [
    "from scipy import stats"
   ]
  },
  {
   "cell_type": "code",
   "execution_count": 5,
   "id": "f2b91f1a",
   "metadata": {},
   "outputs": [],
   "source": [
    "loc = 174\n",
    "scale = 8"
   ]
  },
  {
   "cell_type": "code",
   "execution_count": 6,
   "id": "06e6bd30",
   "metadata": {},
   "outputs": [
    {
     "name": "stdout",
     "output_type": "stream",
     "text": [
      "Вероятность того, что взрослый человек имеет рост больше 182 см: 0.15865525393145707\n"
     ]
    }
   ],
   "source": [
    "#a) больше 182 см: P(182 < X < +inf)\n",
    "p1 = stats.norm.cdf(x=float('inf'), loc=loc, scale=scale) - stats.norm.cdf(x=182, loc=loc, scale=scale)\n",
    "print(f'Вероятность того, что взрослый человек имеет рост больше 182 см: {p1}')"
   ]
  },
  {
   "cell_type": "code",
   "execution_count": 7,
   "id": "c2d40751",
   "metadata": {},
   "outputs": [
    {
     "name": "stdout",
     "output_type": "stream",
     "text": [
      "Вероятность того, что взрослый человек имеет рост больше 192 см: 0.02275013194817921\n"
     ]
    }
   ],
   "source": [
    "#б) больше 190 см: P(190 < X < +inf)\n",
    "p2 = stats.norm.cdf(x=float('inf'), loc=loc, scale=scale) - stats.norm.cdf(x=190, loc=loc, scale=scale)\n",
    "print(f'Вероятность того, что взрослый человек имеет рост больше 192 см: {p2}')"
   ]
  },
  {
   "cell_type": "code",
   "execution_count": 8,
   "id": "402467f9",
   "metadata": {},
   "outputs": [
    {
     "name": "stdout",
     "output_type": "stream",
     "text": [
      "Вероятность того, что взрослый человек имеет рост от 166 см до 190 см: 0.8185946141203637\n"
     ]
    }
   ],
   "source": [
    "#в) от 166 см до 190 см: P(166 <= X <= 190)\n",
    "p3 = stats.norm.cdf(x=190, loc=loc, scale=scale) - stats.norm.cdf(x=166, loc=loc, scale=scale)\n",
    "print(f'Вероятность того, что взрослый человек имеет рост от 166 см до 190 см: {p3}')"
   ]
  },
  {
   "cell_type": "code",
   "execution_count": 9,
   "id": "1483a364",
   "metadata": {},
   "outputs": [
    {
     "name": "stdout",
     "output_type": "stream",
     "text": [
      "Вероятность того, что взрослый человек имеет рост от 182 см до 190 см: 0.6826894921370859\n"
     ]
    }
   ],
   "source": [
    "#г) от 166 см до 182 см: P(166 <= X <= 182)\n",
    "p4 = stats.norm.cdf(x=182, loc=loc, scale=scale) - stats.norm.cdf(x=166, loc=loc, scale=scale)\n",
    "print(f'Вероятность того, что взрослый человек имеет рост от 182 см до 190 см: {p4}')"
   ]
  },
  {
   "cell_type": "code",
   "execution_count": 10,
   "id": "e660a380",
   "metadata": {},
   "outputs": [
    {
     "name": "stdout",
     "output_type": "stream",
     "text": [
      "Вероятность того, что взрослый человек имеет рост от 158 см до 190 см: 0.9544997361036416\n"
     ]
    }
   ],
   "source": [
    "#д) от 158 см до 190 см: P(158 <= X <= 190)\n",
    "p5 = stats.norm.cdf(x=190, loc=loc, scale=scale) - stats.norm.cdf(x=158, loc=loc, scale=scale)\n",
    "print(f'Вероятность того, что взрослый человек имеет рост от 158 см до 190 см: {p5}')"
   ]
  },
  {
   "cell_type": "code",
   "execution_count": 11,
   "id": "a37f6e9f",
   "metadata": {},
   "outputs": [
    {
     "name": "stdout",
     "output_type": "stream",
     "text": [
      "Вероятность того, что взрослый человек имеет рост не выше 150 см или не ниже 190 см: 0.04550026389635842\n"
     ]
    }
   ],
   "source": [
    "#е) не выше 150 см или не ниже 190 см\n",
    "# не выше 150 см: P(-inf < X < 150)\n",
    "# не ниже 190 см: P(190 < X < +inf) = p2\n",
    "p6 = stats.norm.cdf(x=float('inf'), loc=loc, scale=scale) - stats.norm.cdf(x=190, loc=loc, scale=scale)\n",
    "print(f'Вероятность того, что взрослый человек имеет рост не выше 150 см или не ниже 190 см: {p2+p6}')"
   ]
  },
  {
   "cell_type": "code",
   "execution_count": 12,
   "id": "9d598467",
   "metadata": {},
   "outputs": [
    {
     "name": "stdout",
     "output_type": "stream",
     "text": [
      "Вероятность того, что взрослый человек имеет рост не выше 150 см или не ниже 198 см: 0.024100029979809312\n"
     ]
    }
   ],
   "source": [
    "#ё) не выше 150 см или не ниже 198 см\n",
    "# не выше 150 см: P(-inf < X < 150) = p6\n",
    "# не ниже 198 см: P(198 < X < +inf)\n",
    "p7 = stats.norm.cdf(x=float('inf'), loc=loc, scale=scale) - stats.norm.cdf(x=198, loc=loc, scale=scale)\n",
    "print(f'Вероятность того, что взрослый человек имеет рост не выше 150 см или не ниже 198 см: {p6+p7}')"
   ]
  },
  {
   "cell_type": "code",
   "execution_count": 13,
   "id": "3830a022",
   "metadata": {},
   "outputs": [
    {
     "name": "stdout",
     "output_type": "stream",
     "text": [
      "Вероятность того, что взрослый человек имеет рост ниже 166 см: 0.15865525393145707\n"
     ]
    }
   ],
   "source": [
    "#ж) ниже 166 см: P(-inf < X < 166)\n",
    "p8 = stats.norm.cdf(x=166, loc=loc, scale=scale) - stats.norm.cdf(x=float('-inf'), loc=loc, scale=scale)\n",
    "print(f'Вероятность того, что взрослый человек имеет рост ниже 166 см: {p8}')"
   ]
  },
  {
   "cell_type": "code",
   "execution_count": null,
   "id": "610f1315",
   "metadata": {},
   "outputs": [],
   "source": []
  },
  {
   "cell_type": "markdown",
   "id": "9b5bf162",
   "metadata": {},
   "source": [
    "### Задание №5"
   ]
  },
  {
   "cell_type": "markdown",
   "id": "5b856b9a",
   "metadata": {},
   "source": [
    "#### На сколько сигм (средних квадратичных отклонений) отклоняется рост человека, равный 190 см, от математического ожидания роста в популяции, в которой M(X) = 178 см и D(X) = 25 кв.см?"
   ]
  },
  {
   "cell_type": "markdown",
   "id": "5a5c5d0e",
   "metadata": {},
   "source": [
    "$$ Z = \\dfrac{(X - M(X))}{\\sigma}$$"
   ]
  },
  {
   "cell_type": "code",
   "execution_count": 14,
   "id": "57312008",
   "metadata": {},
   "outputs": [],
   "source": [
    "x = 190\n",
    "Mu = 178\n",
    "Dx = 25\n",
    "sig = Dx**0.5"
   ]
  },
  {
   "cell_type": "code",
   "execution_count": 15,
   "id": "07ac670d",
   "metadata": {},
   "outputs": [
    {
     "name": "stdout",
     "output_type": "stream",
     "text": [
      "Рост человека, равный 190 см отклонится на 2.4 сигмы\n"
     ]
    }
   ],
   "source": [
    "Z = (x-Mu)/sig\n",
    "print(f'Рост человека, равный 190 см отклонится на {Z} сигмы')"
   ]
  },
  {
   "cell_type": "code",
   "execution_count": null,
   "id": "3ca122c9",
   "metadata": {},
   "outputs": [],
   "source": []
  }
 ],
 "metadata": {
  "kernelspec": {
   "display_name": "Python 3 (ipykernel)",
   "language": "python",
   "name": "python3"
  },
  "language_info": {
   "codemirror_mode": {
    "name": "ipython",
    "version": 3
   },
   "file_extension": ".py",
   "mimetype": "text/x-python",
   "name": "python",
   "nbconvert_exporter": "python",
   "pygments_lexer": "ipython3",
   "version": "3.9.6"
  }
 },
 "nbformat": 4,
 "nbformat_minor": 5
}
