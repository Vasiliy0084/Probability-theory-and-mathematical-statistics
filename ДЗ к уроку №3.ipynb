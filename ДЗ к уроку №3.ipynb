{
 "cells": [
  {
   "cell_type": "markdown",
   "id": "4f9e6fa3",
   "metadata": {},
   "source": [
    "### Задача №1"
   ]
  },
  {
   "cell_type": "markdown",
   "id": "2b560ecd",
   "metadata": {},
   "source": [
    "#### Даны значения зарплат из выборки выпускников:\n",
    "#### 100, 80, 75, 77, 89, 33, 45, 25, 65, 17, 30, 230, 24, 57, 55, 70, 75, 65, 84, 90, 150\n",
    "\n",
    "#### Используя только встроенные питоновские функции и структуры данных (т.е. без библиотек numpy, pandas и др.), посчитайте (несмещённое) среднее квадратичное отклонение для данной выборки.\n"
   ]
  },
  {
   "cell_type": "markdown",
   "id": "b7d4788c",
   "metadata": {},
   "source": [
    "Среднее квадратическое отклонение рассчитывется по формуле: $$\\sigma_X = \\sqrt{\\dfrac{1}{n - 1} \\displaystyle\\sum_{i = 1}^n \\left( x_i - \\overline{X} \\right)^2}$$"
   ]
  },
  {
   "cell_type": "code",
   "execution_count": 1,
   "id": "e955e9ae",
   "metadata": {},
   "outputs": [],
   "source": [
    "salary = [100, 80, 75, 77, 89, 33, 45, 25, 65, 17, 30, 230, 24, 57, 55, 70, 75, 65, 84, 90, 150]"
   ]
  },
  {
   "cell_type": "markdown",
   "id": "77fb2775",
   "metadata": {},
   "source": [
    "Рассчитаем величину средне арифмитического значения зарплаты $ \\overline{X} $ (обозначим mean)"
   ]
  },
  {
   "cell_type": "code",
   "execution_count": 2,
   "id": "af0f5891",
   "metadata": {},
   "outputs": [
    {
     "data": {
      "text/plain": [
       "73.14285714285714"
      ]
     },
     "execution_count": 2,
     "metadata": {},
     "output_type": "execute_result"
    }
   ],
   "source": [
    "mean = sum(salary)/len(salary)\n",
    "mean"
   ]
  },
  {
   "cell_type": "markdown",
   "id": "39c9cf3f",
   "metadata": {},
   "source": [
    "Найдем чему равно $ (x_i - \\overline{X})^2 $"
   ]
  },
  {
   "cell_type": "code",
   "execution_count": 3,
   "id": "b2a0390e",
   "metadata": {},
   "outputs": [
    {
     "data": {
      "text/plain": [
       "[721.3061224489799,\n",
       " 47.02040816326536,\n",
       " 3.44897959183675,\n",
       " 14.877551020408195,\n",
       " 251.44897959183686,\n",
       " 1611.4489795918364,\n",
       " 792.0204081632651,\n",
       " 2317.734693877551,\n",
       " 66.30612244897952,\n",
       " 3152.020408163265,\n",
       " 1861.3061224489793,\n",
       " 24604.163265306124,\n",
       " 2415.020408163265,\n",
       " 260.59183673469374,\n",
       " 329.1632653061223,\n",
       " 9.877551020408138,\n",
       " 3.44897959183675,\n",
       " 66.30612244897952,\n",
       " 117.87755102040825,\n",
       " 284.1632653061226,\n",
       " 5907.0204081632655]"
      ]
     },
     "execution_count": 3,
     "metadata": {},
     "output_type": "execute_result"
    }
   ],
   "source": [
    "salary_2 = [(x - mean)**2 for x in salary]\n",
    "salary_2"
   ]
  },
  {
   "cell_type": "code",
   "execution_count": 4,
   "id": "1f3fd2a4",
   "metadata": {},
   "outputs": [
    {
     "data": {
      "text/plain": [
       "47.34795213553139"
      ]
     },
     "execution_count": 4,
     "metadata": {},
     "output_type": "execute_result"
    }
   ],
   "source": [
    "a = ((1/(len(salary)-1))*sum((salary_2)))**0.5\n",
    "a"
   ]
  },
  {
   "cell_type": "code",
   "execution_count": null,
   "id": "d44c4968",
   "metadata": {},
   "outputs": [],
   "source": []
  },
  {
   "cell_type": "markdown",
   "id": "1ee414d9",
   "metadata": {},
   "source": [
    "### Задача №2"
   ]
  },
  {
   "cell_type": "markdown",
   "id": "7006c35b",
   "metadata": {},
   "source": [
    "#### Найдите число выбросов в выборке из задачи 1. Для определения выбросов используйте методику как при построении “усов” в boxplot, однако, как и в задаче 1, пользоваться можно только встроенными функциями и структурами данных."
   ]
  },
  {
   "cell_type": "markdown",
   "id": "1bdac667",
   "metadata": {},
   "source": [
    "Отсортируем значение зарплаты по возрастанию"
   ]
  },
  {
   "cell_type": "code",
   "execution_count": 5,
   "id": "2d9d2ee5",
   "metadata": {},
   "outputs": [
    {
     "data": {
      "text/plain": [
       "[17,\n",
       " 24,\n",
       " 25,\n",
       " 30,\n",
       " 33,\n",
       " 45,\n",
       " 55,\n",
       " 57,\n",
       " 65,\n",
       " 65,\n",
       " 70,\n",
       " 75,\n",
       " 75,\n",
       " 77,\n",
       " 80,\n",
       " 84,\n",
       " 89,\n",
       " 90,\n",
       " 100,\n",
       " 150,\n",
       " 230]"
      ]
     },
     "execution_count": 5,
     "metadata": {},
     "output_type": "execute_result"
    }
   ],
   "source": [
    "salary_sort = sorted(salary)\n",
    "salary_sort"
   ]
  },
  {
   "cell_type": "markdown",
   "id": "a099b558",
   "metadata": {},
   "source": [
    "Определяем количество записей в выборке"
   ]
  },
  {
   "cell_type": "code",
   "execution_count": 6,
   "id": "76cd71cb",
   "metadata": {},
   "outputs": [
    {
     "name": "stdout",
     "output_type": "stream",
     "text": [
      "Количество записей в выборке:  21\n"
     ]
    }
   ],
   "source": [
    "print('Количество записей в выборке: ', len(salary_sort))"
   ]
  },
  {
   "cell_type": "markdown",
   "id": "fc0598c0",
   "metadata": {},
   "source": [
    "Находим значение медианы"
   ]
  },
  {
   "cell_type": "code",
   "execution_count": 7,
   "id": "77b80328",
   "metadata": {},
   "outputs": [],
   "source": [
    "def median(salary_sort):\n",
    "    '''Медиана числового ряда'''\n",
    "    n = len(salary_sort)\n",
    "    mid = n // 2\n",
    "    if n % 2 == 1:\n",
    "        return (salary_sort)[mid]\n",
    "    else:\n",
    "        return mean((salary_sort)[mid-1:][:2])"
   ]
  },
  {
   "cell_type": "code",
   "execution_count": 8,
   "id": "9588654c",
   "metadata": {},
   "outputs": [
    {
     "name": "stdout",
     "output_type": "stream",
     "text": [
      "Медиана:  70\n"
     ]
    }
   ],
   "source": [
    "median = median(salary_sort)\n",
    "print('Медиана: ', median)"
   ]
  },
  {
   "cell_type": "markdown",
   "id": "eef77116",
   "metadata": {},
   "source": [
    "Определяем первый квартиль"
   ]
  },
  {
   "cell_type": "markdown",
   "id": "d05ddf0a",
   "metadata": {},
   "source": [
    "Посчитаем первый квартиль, т.е. квартиль порядка $0.25$. Процесс похож на вычисление медианы, просто делить будем не на $2$, а на $4$. Правило вычисления квартиля:\n",
    "* Если размер массива делится на 4 нацело, то первый квартиль будет находиться между крайним правым элементом из левой четверти (в отсортированном массиве) и элементом, следующим за ним.\n",
    "* Если размер массива на 4 не делится, то первым квартилем будет элемент, стоящий на позиции $[n / 4] + 1$, где $[x]$ — целая часть числа $x$.\n",
    "\n",
    "Итак, остаток от деления длины массива на $4$:"
   ]
  },
  {
   "cell_type": "code",
   "execution_count": 9,
   "id": "49457ba8",
   "metadata": {},
   "outputs": [
    {
     "data": {
      "text/plain": [
       "1"
      ]
     },
     "execution_count": 9,
     "metadata": {},
     "output_type": "execute_result"
    }
   ],
   "source": [
    "len(salary_sort) % 4"
   ]
  },
  {
   "cell_type": "markdown",
   "id": "ba99488d",
   "metadata": {},
   "source": [
    "Значит, квартиль придётся на конкретный элемент, а именно элемент с индексом len(salary_sort) // 4 (поскольку индексация происходит с нуля)."
   ]
  },
  {
   "cell_type": "code",
   "execution_count": 10,
   "id": "cb217409",
   "metadata": {},
   "outputs": [
    {
     "name": "stdout",
     "output_type": "stream",
     "text": [
      "Первый квартиль:  45\n"
     ]
    }
   ],
   "source": [
    "q1 = salary_sort[(len(salary_sort) // 4)]\n",
    "print('Первый квартиль: ', q1)"
   ]
  },
  {
   "cell_type": "markdown",
   "id": "80f9f7c0",
   "metadata": {},
   "source": [
    "Определяем третий квартиль"
   ]
  },
  {
   "cell_type": "code",
   "execution_count": 11,
   "id": "c1778e8c",
   "metadata": {},
   "outputs": [
    {
     "name": "stdout",
     "output_type": "stream",
     "text": [
      "Третий квартиль:  84\n"
     ]
    }
   ],
   "source": [
    "q3 = salary_sort[(len(salary_sort)*3 // 4)]\n",
    "print('Третий квартиль: ', q3)"
   ]
  },
  {
   "cell_type": "markdown",
   "id": "9f57de9b",
   "metadata": {},
   "source": [
    "Определяем интерквартильное расстояние:"
   ]
  },
  {
   "cell_type": "code",
   "execution_count": 13,
   "id": "e1c86ee7",
   "metadata": {},
   "outputs": [
    {
     "data": {
      "text/plain": [
       "39"
      ]
     },
     "execution_count": 13,
     "metadata": {},
     "output_type": "execute_result"
    }
   ],
   "source": [
    "iqr = q3-q1\n",
    "iqr"
   ]
  },
  {
   "cell_type": "markdown",
   "id": "0a33babb",
   "metadata": {},
   "source": [
    "Определяем выбросы.\n",
    "Для этого рассчитаем верхнюю и нижнюю границы выборки: $$\\left[ Q_1 - 1.5 \\times IQR, \\: Q_3 + 1.5 \\times IQR \\right],$$"
   ]
  },
  {
   "cell_type": "code",
   "execution_count": 14,
   "id": "b8cd0c96",
   "metadata": {},
   "outputs": [
    {
     "name": "stdout",
     "output_type": "stream",
     "text": [
      "Нижняя гранийа выборки:  -13.5\n",
      "Верхняя гранийа выборки:  142.5\n"
     ]
    }
   ],
   "source": [
    "boxplot_low = q1-1.5*iqr\n",
    "boxplot_high = q3+1.5*iqr\n",
    "print('Нижняя гранийа выборки: ', boxplot_low)\n",
    "print('Верхняя гранийа выборки: ', boxplot_high)"
   ]
  },
  {
   "cell_type": "code",
   "execution_count": 20,
   "id": "6868b579",
   "metadata": {},
   "outputs": [
    {
     "name": "stdout",
     "output_type": "stream",
     "text": [
      "Значение, попавшее в выброс: 150\n",
      "Значение, попавшее в выброс: 230\n"
     ]
    }
   ],
   "source": [
    "for i in range(len(salary_sort)):\n",
    "    if salary_sort[i]<boxplot_low or salary_sort[i]>boxplot_high:\n",
    "        print(f'Значение, попавшее в выброс: {salary_sort[i]}')"
   ]
  },
  {
   "cell_type": "markdown",
   "id": "cc4b4917",
   "metadata": {},
   "source": [
    "#### Ответ: число выбрасов: 2"
   ]
  },
  {
   "cell_type": "code",
   "execution_count": null,
   "id": "cf1091a2",
   "metadata": {},
   "outputs": [],
   "source": []
  },
  {
   "cell_type": "markdown",
   "id": "20a4285f",
   "metadata": {},
   "source": [
    "### Задача №3"
   ]
  },
  {
   "cell_type": "markdown",
   "id": "a7465e45",
   "metadata": {},
   "source": [
    "#### В университет на факультет A поступило 100 человек, на факультет B - 90 человек и на факультет C - 45 человек. Вероятность того, что студент с факультета A сдаст первую сессию, равна 0.6. Для студента с факультета B эта вероятность равна 0.7, а для студента с факультета C - 0.8. Случайным образом выбирается студент, сдавший первую сессию. Какое событие наиболее вероятно:\n",
    "#### 1.\tстудент учится на факультете A,\n",
    "#### 2.\tстудент учится на факультете B,\n",
    "#### 3.\tстудент учится на факультете C?\n"
   ]
  },
  {
   "cell_type": "markdown",
   "id": "5309ab32",
   "metadata": {},
   "source": [
    "Найдем вероятность того, что на удачу выбранный студент будет:\n",
    "- С факультета А\n",
    "- С факультета В\n",
    "- С факультета С"
   ]
  },
  {
   "cell_type": "markdown",
   "id": "4b04c68b",
   "metadata": {},
   "source": [
    "Общее количество поступивших студентов:"
   ]
  },
  {
   "cell_type": "code",
   "execution_count": 1,
   "id": "aa1a5d74",
   "metadata": {},
   "outputs": [
    {
     "data": {
      "text/plain": [
       "235"
      ]
     },
     "execution_count": 1,
     "metadata": {},
     "output_type": "execute_result"
    }
   ],
   "source": [
    "q_u = 100+90+45\n",
    "q_u"
   ]
  },
  {
   "cell_type": "code",
   "execution_count": 3,
   "id": "a98eb817",
   "metadata": {},
   "outputs": [
    {
     "name": "stdout",
     "output_type": "stream",
     "text": [
      "0.425531914893617 0.3829787234042553 0.19148936170212766\n"
     ]
    }
   ],
   "source": [
    "p_a = 100/q_u\n",
    "p_b = 90/q_u\n",
    "p_c = 45/q_u\n",
    "print(p_a, p_b, p_c)"
   ]
  },
  {
   "cell_type": "markdown",
   "id": "e8bb85cc",
   "metadata": {},
   "source": [
    "Вероятность сдачи сессии известна по условиям задачи. Вероятность двух и более событей равна сумме произведений вероятностей"
   ]
  },
  {
   "cell_type": "code",
   "execution_count": 6,
   "id": "643fd7d0",
   "metadata": {},
   "outputs": [
    {
     "data": {
      "text/plain": [
       "0.676595744680851"
      ]
     },
     "execution_count": 6,
     "metadata": {},
     "output_type": "execute_result"
    }
   ],
   "source": [
    "p_t = 0.6*p_a + 0.7*p_b + 0.8*p_c\n",
    "p_t"
   ]
  },
  {
   "cell_type": "markdown",
   "id": "eeb638a1",
   "metadata": {},
   "source": [
    "Далее по формуле Байеса определяем вероятность того, что случайно взятый студент (сдавший первую сессию) учится на факультете А,В или С"
   ]
  },
  {
   "cell_type": "markdown",
   "id": "4ee381b1",
   "metadata": {},
   "source": [
    "$$P(A | B) = \\dfrac{P(B | A) \\cdot P(A)}{P(B)}$$"
   ]
  },
  {
   "cell_type": "markdown",
   "id": "5a5ddfcf",
   "metadata": {},
   "source": [
    "С факультета А:"
   ]
  },
  {
   "cell_type": "code",
   "execution_count": 7,
   "id": "5b041365",
   "metadata": {},
   "outputs": [
    {
     "data": {
      "text/plain": [
       "0.3773584905660377"
      ]
     },
     "execution_count": 7,
     "metadata": {},
     "output_type": "execute_result"
    }
   ],
   "source": [
    "A = 0.6*p_a/p_t\n",
    "A"
   ]
  },
  {
   "cell_type": "markdown",
   "id": "679adf50",
   "metadata": {},
   "source": [
    "С факультета В:"
   ]
  },
  {
   "cell_type": "code",
   "execution_count": 9,
   "id": "2a8020f0",
   "metadata": {},
   "outputs": [
    {
     "data": {
      "text/plain": [
       "0.39622641509433965"
      ]
     },
     "execution_count": 9,
     "metadata": {},
     "output_type": "execute_result"
    }
   ],
   "source": [
    "B = 0.7*p_b/p_t\n",
    "B"
   ]
  },
  {
   "cell_type": "markdown",
   "id": "bd631c76",
   "metadata": {},
   "source": [
    "С факультета С:"
   ]
  },
  {
   "cell_type": "code",
   "execution_count": 10,
   "id": "d0cd99bc",
   "metadata": {},
   "outputs": [
    {
     "data": {
      "text/plain": [
       "0.22641509433962265"
      ]
     },
     "execution_count": 10,
     "metadata": {},
     "output_type": "execute_result"
    }
   ],
   "source": [
    "C = 0.8*p_c/p_t\n",
    "C"
   ]
  },
  {
   "cell_type": "markdown",
   "id": "cb43906b",
   "metadata": {},
   "source": [
    "#### Ответ: наиболее вероятно, что студент будет с факультета В."
   ]
  },
  {
   "cell_type": "code",
   "execution_count": null,
   "id": "a0e2a368",
   "metadata": {},
   "outputs": [],
   "source": []
  }
 ],
 "metadata": {
  "kernelspec": {
   "display_name": "Python 3 (ipykernel)",
   "language": "python",
   "name": "python3"
  },
  "language_info": {
   "codemirror_mode": {
    "name": "ipython",
    "version": 3
   },
   "file_extension": ".py",
   "mimetype": "text/x-python",
   "name": "python",
   "nbconvert_exporter": "python",
   "pygments_lexer": "ipython3",
   "version": "3.9.6"
  }
 },
 "nbformat": 4,
 "nbformat_minor": 5
}
